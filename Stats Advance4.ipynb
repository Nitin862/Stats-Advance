{
 "cells": [
  {
   "cell_type": "code",
   "execution_count": 1,
   "id": "aa5522f9-ee00-4405-805e-cb8e71c5c122",
   "metadata": {},
   "outputs": [
    {
     "data": {
      "text/plain": [
       "'Q1: What is the difference between a t-test and a z-test? Provide an example scenario where you would\\nuse each type of test.'"
      ]
     },
     "execution_count": 1,
     "metadata": {},
     "output_type": "execute_result"
    }
   ],
   "source": [
    "'''Q1: What is the difference between a t-test and a z-test? Provide an example scenario where you would\n",
    "use each type of test.'''"
   ]
  },
  {
   "cell_type": "code",
   "execution_count": 2,
   "id": "a79e9fc6-ff0a-439c-b144-2fe3f41601a0",
   "metadata": {},
   "outputs": [
    {
     "data": {
      "text/plain": [
       "\"T-Test vs. Z-Test:\\n\\nT-Test: Used when the sample size is small (typically n < 30) or the population standard deviation is unknown. It accounts for the sample variability.\\n\\nExample: Testing if the average test scores of a small group of students differ from a known population average when you don't know the population standard deviation.\\n\\nZ-Test: Used when the sample size is large (n ≥ 30) and the population standard deviation is known. It assumes the sampling distribution is approximately normal.\\n\\nExample: Testing if the average height of a large sample of adult men differs from the known population average height when the population standard deviation is known.\\n\""
      ]
     },
     "execution_count": 2,
     "metadata": {},
     "output_type": "execute_result"
    }
   ],
   "source": [
    "'''T-Test vs. Z-Test:\n",
    "\n",
    "T-Test: Used when the sample size is small (typically n < 30) or the population standard deviation is unknown. It accounts for the sample variability.\n",
    "\n",
    "Example: Testing if the average test scores of a small group of students differ from a known population average when you don't know the population standard deviation.\n",
    "\n",
    "Z-Test: Used when the sample size is large (n ≥ 30) and the population standard deviation is known. It assumes the sampling distribution is approximately normal.\n",
    "\n",
    "Example: Testing if the average height of a large sample of adult men differs from the known population average height when the population standard deviation is known.\n",
    "'''"
   ]
  },
  {
   "cell_type": "code",
   "execution_count": 4,
   "id": "429dd520-d48f-40b8-9462-a79b4d5b5f42",
   "metadata": {},
   "outputs": [
    {
     "data": {
      "text/plain": [
       "'Q2: Differentiate between one-tailed and two-tailed tests'"
      ]
     },
     "execution_count": 4,
     "metadata": {},
     "output_type": "execute_result"
    }
   ],
   "source": [
    "'''Q2: Differentiate between one-tailed and two-tailed tests'''"
   ]
  },
  {
   "cell_type": "code",
   "execution_count": 5,
   "id": "069a094d-9ae9-4afb-a615-8e4defcc904d",
   "metadata": {},
   "outputs": [
    {
     "data": {
      "text/plain": [
       "'One-Tailed Test: Tests for an effect in only one direction (either greater than or less than). It has a higher power to detect an effect in the specified direction but does not test for the effect in the opposite direction.\\n\\nExample: Testing if a new drug increases recovery time (only looking for an increase).\\n\\nTwo-Tailed Test: Tests for an effect in both directions (either greater than or less than). It is used when the direction of the effect is not specified in advance.\\n\\nExample: Testing if a new drug changes recovery time (looking for both an increase or a decrease).'"
      ]
     },
     "execution_count": 5,
     "metadata": {},
     "output_type": "execute_result"
    }
   ],
   "source": [
    "'''One-Tailed Test: Tests for an effect in only one direction (either greater than or less than). It has a higher power to detect an effect in the specified direction but does not test for the effect in the opposite direction.\n",
    "\n",
    "Example: Testing if a new drug increases recovery time (only looking for an increase).\n",
    "\n",
    "Two-Tailed Test: Tests for an effect in both directions (either greater than or less than). It is used when the direction of the effect is not specified in advance.\n",
    "\n",
    "Example: Testing if a new drug changes recovery time (looking for both an increase or a decrease).'''"
   ]
  },
  {
   "cell_type": "code",
   "execution_count": 6,
   "id": "b53e456f-98d4-4f86-a442-c307ef95bc56",
   "metadata": {},
   "outputs": [
    {
     "data": {
      "text/plain": [
       "'Q3: Explain the concept of Type 1 and Type 2 errors in hypothesis testing. Provide an example scenario for\\neach type of error.'"
      ]
     },
     "execution_count": 6,
     "metadata": {},
     "output_type": "execute_result"
    }
   ],
   "source": [
    "'''Q3: Explain the concept of Type 1 and Type 2 errors in hypothesis testing. Provide an example scenario for\n",
    "each type of error.'''"
   ]
  },
  {
   "cell_type": "code",
   "execution_count": 7,
   "id": "ecadfb45-a7f9-4ce7-ba3b-1fc2c0be71cd",
   "metadata": {},
   "outputs": [
    {
     "data": {
      "text/plain": [
       "'Type 1 Error (False Positive): Occurs when the null hypothesis is incorrectly rejected when it is actually true. The probability of a Type 1 error is denoted by alpha (α).\\n\\nExample: Concluding that a new drug is effective when it actually isn’t.\\n\\nType 2 Error (False Negative): Occurs when the null hypothesis is incorrectly accepted when it is actually false. The probability of a Type 2 error is denoted by beta (β).\\n\\nExample: Concluding that a new drug is not effective when it actually is.'"
      ]
     },
     "execution_count": 7,
     "metadata": {},
     "output_type": "execute_result"
    }
   ],
   "source": [
    "'''Type 1 Error (False Positive): Occurs when the null hypothesis is incorrectly rejected when it is actually true. The probability of a Type 1 error is denoted by alpha (α).\n",
    "\n",
    "Example: Concluding that a new drug is effective when it actually isn’t.\n",
    "\n",
    "Type 2 Error (False Negative): Occurs when the null hypothesis is incorrectly accepted when it is actually false. The probability of a Type 2 error is denoted by beta (β).\n",
    "\n",
    "Example: Concluding that a new drug is not effective when it actually is.'''"
   ]
  },
  {
   "cell_type": "code",
   "execution_count": 8,
   "id": "8ef6d2ec-5d54-46ff-ade6-18be18d898cb",
   "metadata": {},
   "outputs": [
    {
     "data": {
      "text/plain": [
       "\"Q4:  Explain Bayes's theorem with an example\""
      ]
     },
     "execution_count": 8,
     "metadata": {},
     "output_type": "execute_result"
    }
   ],
   "source": [
    "'''Q4:  Explain Bayes's theorem with an example'''"
   ]
  },
  {
   "cell_type": "code",
   "execution_count": 10,
   "id": "0fdb2857-8362-4f96-a3d0-cbe9a588c0b5",
   "metadata": {},
   "outputs": [
    {
     "data": {
      "text/plain": [
       "\"Bayes's Theorem provides a way to update the probability of a hypothesis based on new evidence. It combines prior probability with the likelihood of the observed evidence to calculate the posterior probability.\\n\\nFormula: \\n𝑃\\n(\\n𝐴\\n∣\\n𝐵\\n)\\n=\\n𝑃\\n(\\n𝐵\\n∣\\n𝐴\\n)\\n×\\n𝑃\\n(\\n𝐴\\n)\\n𝑃\\n(\\n𝐵\\n)\\nP(A∣B)= \\nP(B)\\nP(B∣A)×P(A)\\nExample: If 1% of a population has a disease (prior probability \\n𝑃\\n(\\n𝐷\\n)\\nP(D)), and a test correctly identifies the disease 90% of the time (likelihood \\n𝑃\\n(\\n𝑇\\n∣\\n𝐷\\n)\\nP(T∣D)), but also gives a false positive 5% of the time (false positive rate \\n𝑃\\n(\\n𝑇\\n∣\\n¬\\n𝐷\\n)\\nP(T∣¬D)), what is the probability that a person has the disease given that they tested positive?\\n\\nApplying Bayes's Theorem: \\n𝑃\\n(\\n𝐷\\n∣\\n𝑇\\n)\\n=\\n𝑃\\n(\\n𝑇\\n∣\\n𝐷\\n)\\n×\\n𝑃\\n(\\n𝐷\\n)\\n𝑃\\n(\\n𝑇\\n)\\nP(D∣T)= \\nP(T)\\nP(T∣D)×P(D)\\n\\u200b\\n \\n\\nWhere:\\n\\n𝑃\\n(\\n𝑇\\n)\\n=\\n𝑃\\n(\\n𝑇\\n∣\\n𝐷\\n)\\n×\\n𝑃\\n(\\n𝐷\\n)\\n+\\n𝑃\\n(\\n𝑇\\n∣\\n¬\\n𝐷\\n)\\n×\\n𝑃\\n(\\n¬\\n𝐷\\n)\\nP(T)=P(T∣D)×P(D)+P(T∣¬D)×P(¬D)\\n𝑃\\n(\\n𝑇\\n)\\n=\\n0.90\\n×\\n0.01\\n+\\n0.05\\n×\\n0.99\\n≈\\n0.0594\\nP(T)=0.90×0.01+0.05×0.99≈0.0594\\nThus: \\n𝑃\\n(\\n𝐷\\n∣\\n𝑇\\n)\\n=\\n0.90\\n×\\n0.01\\n0.0594\\n≈\\n0.151\\nP(D∣T)= \\n0.0594\\n0.90×0.01\\n\\u200b\\n ≈0.151\\n\\nSo, given a positive test result, there is about a 15.1% chance the person actually has the disease.\\n\\u200b\\n\""
      ]
     },
     "execution_count": 10,
     "metadata": {},
     "output_type": "execute_result"
    }
   ],
   "source": [
    "'''Bayes's Theorem provides a way to update the probability of a hypothesis based on new evidence. It combines prior probability with the likelihood of the observed evidence to calculate the posterior probability.\n",
    "\n",
    "Formula: \n",
    "𝑃\n",
    "(\n",
    "𝐴\n",
    "∣\n",
    "𝐵\n",
    ")\n",
    "=\n",
    "𝑃\n",
    "(\n",
    "𝐵\n",
    "∣\n",
    "𝐴\n",
    ")\n",
    "×\n",
    "𝑃\n",
    "(\n",
    "𝐴\n",
    ")\n",
    "𝑃\n",
    "(\n",
    "𝐵\n",
    ")\n",
    "P(A∣B)= \n",
    "P(B)\n",
    "P(B∣A)×P(A)\n",
    "Example: If 1% of a population has a disease (prior probability \n",
    "𝑃\n",
    "(\n",
    "𝐷\n",
    ")\n",
    "P(D)), and a test correctly identifies the disease 90% of the time (likelihood \n",
    "𝑃\n",
    "(\n",
    "𝑇\n",
    "∣\n",
    "𝐷\n",
    ")\n",
    "P(T∣D)), but also gives a false positive 5% of the time (false positive rate \n",
    "𝑃\n",
    "(\n",
    "𝑇\n",
    "∣\n",
    "¬\n",
    "𝐷\n",
    ")\n",
    "P(T∣¬D)), what is the probability that a person has the disease given that they tested positive?\n",
    "\n",
    "Applying Bayes's Theorem: \n",
    "𝑃\n",
    "(\n",
    "𝐷\n",
    "∣\n",
    "𝑇\n",
    ")\n",
    "=\n",
    "𝑃\n",
    "(\n",
    "𝑇\n",
    "∣\n",
    "𝐷\n",
    ")\n",
    "×\n",
    "𝑃\n",
    "(\n",
    "𝐷\n",
    ")\n",
    "𝑃\n",
    "(\n",
    "𝑇\n",
    ")\n",
    "P(D∣T)= \n",
    "P(T)\n",
    "P(T∣D)×P(D)\n",
    "​\n",
    " \n",
    "\n",
    "Where:\n",
    "\n",
    "𝑃\n",
    "(\n",
    "𝑇\n",
    ")\n",
    "=\n",
    "𝑃\n",
    "(\n",
    "𝑇\n",
    "∣\n",
    "𝐷\n",
    ")\n",
    "×\n",
    "𝑃\n",
    "(\n",
    "𝐷\n",
    ")\n",
    "+\n",
    "𝑃\n",
    "(\n",
    "𝑇\n",
    "∣\n",
    "¬\n",
    "𝐷\n",
    ")\n",
    "×\n",
    "𝑃\n",
    "(\n",
    "¬\n",
    "𝐷\n",
    ")\n",
    "P(T)=P(T∣D)×P(D)+P(T∣¬D)×P(¬D)\n",
    "𝑃\n",
    "(\n",
    "𝑇\n",
    ")\n",
    "=\n",
    "0.90\n",
    "×\n",
    "0.01\n",
    "+\n",
    "0.05\n",
    "×\n",
    "0.99\n",
    "≈\n",
    "0.0594\n",
    "P(T)=0.90×0.01+0.05×0.99≈0.0594\n",
    "Thus: \n",
    "𝑃\n",
    "(\n",
    "𝐷\n",
    "∣\n",
    "𝑇\n",
    ")\n",
    "=\n",
    "0.90\n",
    "×\n",
    "0.01\n",
    "0.0594\n",
    "≈\n",
    "0.151\n",
    "P(D∣T)= \n",
    "0.0594\n",
    "0.90×0.01\n",
    "​\n",
    " ≈0.151\n",
    "\n",
    "So, given a positive test result, there is about a 15.1% chance the person actually has the disease.\n",
    "​\n",
    "'''"
   ]
  },
  {
   "cell_type": "code",
   "execution_count": 11,
   "id": "883479f3-2e87-4dae-aba8-e929904c0ff5",
   "metadata": {},
   "outputs": [
    {
     "data": {
      "text/plain": [
       "'Q5: What is a confidence interval? How to calculate the confidence interval, explain with an example.'"
      ]
     },
     "execution_count": 11,
     "metadata": {},
     "output_type": "execute_result"
    }
   ],
   "source": [
    "'''Q5: What is a confidence interval? How to calculate the confidence interval, explain with an example.'''\n"
   ]
  },
  {
   "cell_type": "code",
   "execution_count": 16,
   "id": "74f1d86f-fbb4-4fbd-9c0c-bd1a38712535",
   "metadata": {},
   "outputs": [
    {
     "data": {
      "text/plain": [
       "'A confidence interval is a range of values, derived from sample data, that is likely to contain the true population parameter with a specified probability (confidence level).\\n\\nCalculation:\\n\\nDetermine the sample statistic (e.g., sample mean 𝑥ˉxˉ ).\\nCalculate the standard error (SE), which depends on the sample size and standard deviation. \\nSE\\n=\\nStandard\\xa0Deviation\\xa0(SD)\\nSample\\xa0Size\\xa0(n)\\nSE= \\nSample\\xa0Size\\xa0(n)\\n\\u200b\\n \\nStandard\\xa0Deviation\\xa0(SD)\\n\\u200b\\n \\nFind the critical value from the Z-distribution (for large samples) or t-distribution (for small samples) based on the desired confidence level.\\nConstruct the confidence interval: \\nCI=𝑥ˉ±(Critical\\xa0Value×SE)\\nCI= xˉ±(Critical\\xa0Value×SE)\\nExample: Suppose you have a sample mean of 50, a standard deviation of 10, and a sample size of 25. You want a 95% confidence interval.\\n\\nCalculate SE: \\nSE=10\\n25\\n=\\n2\\nSE= \\n25\\n\\u200b\\n \\n10\\n\\u200b\\n =2\\n\\nFind the critical value for 95% confidence (approximately 1.96 for large samples): \\nCI=50±(1.96×2)\\nCI=50±(1.96×2) \\nCI=50±3.92\\nCI=50±3.92\\n\\nConstruct the interval: \\nCI=[46.08,53.92]\\nCI=[46.08,53.92]\\n\\nSo, you can be 95% confident that the true population mean falls between 46.08 and 53.92'"
      ]
     },
     "execution_count": 16,
     "metadata": {},
     "output_type": "execute_result"
    }
   ],
   "source": [
    "'''A confidence interval is a range of values, derived from sample data, that is likely to contain the true population parameter with a specified probability (confidence level).\n",
    "\n",
    "Calculation:\n",
    "\n",
    "Determine the sample statistic (e.g., sample mean 𝑥ˉxˉ ).\n",
    "Calculate the standard error (SE), which depends on the sample size and standard deviation. \n",
    "SE\n",
    "=\n",
    "Standard Deviation (SD)\n",
    "Sample Size (n)\n",
    "SE= \n",
    "Sample Size (n)\n",
    "​\n",
    " \n",
    "Standard Deviation (SD)\n",
    "​\n",
    " \n",
    "Find the critical value from the Z-distribution (for large samples) or t-distribution (for small samples) based on the desired confidence level.\n",
    "Construct the confidence interval: \n",
    "CI=𝑥ˉ±(Critical Value×SE)\n",
    "CI= xˉ±(Critical Value×SE)\n",
    "Example: Suppose you have a sample mean of 50, a standard deviation of 10, and a sample size of 25. You want a 95% confidence interval.\n",
    "\n",
    "Calculate SE: \n",
    "SE=10\n",
    "25\n",
    "=\n",
    "2\n",
    "SE= \n",
    "25\n",
    "​\n",
    " \n",
    "10\n",
    "​\n",
    " =2\n",
    "\n",
    "Find the critical value for 95% confidence (approximately 1.96 for large samples): \n",
    "CI=50±(1.96×2)\n",
    "CI=50±(1.96×2) \n",
    "CI=50±3.92\n",
    "CI=50±3.92\n",
    "\n",
    "Construct the interval: \n",
    "CI=[46.08,53.92]\n",
    "CI=[46.08,53.92]\n",
    "\n",
    "So, you can be 95% confident that the true population mean falls between 46.08 and 53.92'''"
   ]
  },
  {
   "cell_type": "code",
   "execution_count": 13,
   "id": "81219450-9081-4847-b223-df2701ea551e",
   "metadata": {},
   "outputs": [
    {
     "data": {
      "text/plain": [
       "\"Q6. Use Bayes' Theorem to calculate the probability of an event occurring given prior knowledge of the\\nevent's probability and new evidence. Provide a sample problem and solution.\""
      ]
     },
     "execution_count": 13,
     "metadata": {},
     "output_type": "execute_result"
    }
   ],
   "source": [
    "'''Q6. Use Bayes' Theorem to calculate the probability of an event occurring given prior knowledge of the\n",
    "event's probability and new evidence. Provide a sample problem and solution.'''"
   ]
  },
  {
   "cell_type": "code",
   "execution_count": 15,
   "id": "702c7b69-79a0-4294-989c-5988590bbe45",
   "metadata": {},
   "outputs": [
    {
     "data": {
      "text/plain": [
       "'Calculate the probability of a positive test \\n𝑃(𝑇)\\nP(T):\\n\\nProbability of a false positive \\n𝑃(𝑇∣¬𝐷)\\nP(T∣¬D): 𝑃(𝑇∣¬𝐷)=1−Specificity=1−0.95=0.05\\nP(T∣¬D)=1−Specificity=1−0.95=0.05\\nProbability of testing positive: \\n𝑃(𝑇)=𝑃(𝑇∣𝐷)×𝑃(𝐷)+𝑃(𝑇∣¬𝐷)×𝑃(¬𝐷)\\nP(T)=P(T∣D)×P(D)+P(T∣¬D)×P(¬D) \\n𝑃(𝑇)=0.90×0.01+0.05×0.99\\nP(T)=0.90×0.01+0.05×0.99 \\n𝑃(𝑇)=0.009+0.0495=0.0585\\nP(T)=0.009+0.0495=0.0585\\nApply Bayes’s Theorem: \\n𝑃(𝐷∣𝑇)=𝑃(𝑇∣𝐷)×𝑃(𝐷)𝑃(𝑇)P(D∣T)= P(T)\\nP(T∣D)×P(D)\\n\\u200b\\n  \\n𝑃(𝐷∣𝑇)=0.90×0.01\\n0.0585\\nP(D∣T)= 0.0585\\n0.90×0.01\\n\\u200b\\n  \\n𝑃(𝐷∣𝑇)=0.009\\n0.0585\\n≈0.154\\nP(D∣T)= 0.0585\\n0.009\\n\\u200b\\n ≈0.154\\n\\nSo, if a person tests positive, there is approximately a 15.4% chance they actually have the disease.'"
      ]
     },
     "execution_count": 15,
     "metadata": {},
     "output_type": "execute_result"
    }
   ],
   "source": [
    "'''Calculate the probability of a positive test \n",
    "𝑃(𝑇)\n",
    "P(T):\n",
    "\n",
    "Probability of a false positive \n",
    "𝑃(𝑇∣¬𝐷)\n",
    "P(T∣¬D): 𝑃(𝑇∣¬𝐷)=1−Specificity=1−0.95=0.05\n",
    "P(T∣¬D)=1−Specificity=1−0.95=0.05\n",
    "Probability of testing positive: \n",
    "𝑃(𝑇)=𝑃(𝑇∣𝐷)×𝑃(𝐷)+𝑃(𝑇∣¬𝐷)×𝑃(¬𝐷)\n",
    "P(T)=P(T∣D)×P(D)+P(T∣¬D)×P(¬D) \n",
    "𝑃(𝑇)=0.90×0.01+0.05×0.99\n",
    "P(T)=0.90×0.01+0.05×0.99 \n",
    "𝑃(𝑇)=0.009+0.0495=0.0585\n",
    "P(T)=0.009+0.0495=0.0585\n",
    "Apply Bayes’s Theorem: \n",
    "𝑃(𝐷∣𝑇)=𝑃(𝑇∣𝐷)×𝑃(𝐷)𝑃(𝑇)P(D∣T)= P(T)\n",
    "P(T∣D)×P(D)\n",
    "​\n",
    "  \n",
    "𝑃(𝐷∣𝑇)=0.90×0.01\n",
    "0.0585\n",
    "P(D∣T)= 0.0585\n",
    "0.90×0.01\n",
    "​\n",
    "  \n",
    "𝑃(𝐷∣𝑇)=0.009\n",
    "0.0585\n",
    "≈0.154\n",
    "P(D∣T)= 0.0585\n",
    "0.009\n",
    "​\n",
    " ≈0.154\n",
    "\n",
    "So, if a person tests positive, there is approximately a 15.4% chance they actually have the disease.'''"
   ]
  },
  {
   "cell_type": "code",
   "execution_count": 17,
   "id": "722db69d-e5fb-4fe2-aae5-d715a92b2c76",
   "metadata": {},
   "outputs": [
    {
     "data": {
      "text/plain": [
       "'Q7. Calculate the 95% confidence interval for a sample of data with a mean of 50 and a standard deviation\\nof 5. Interpret the results.'"
      ]
     },
     "execution_count": 17,
     "metadata": {},
     "output_type": "execute_result"
    }
   ],
   "source": [
    "'''Q7. Calculate the 95% confidence interval for a sample of data with a mean of 50 and a standard deviation\n",
    "of 5. Interpret the results.'''"
   ]
  },
  {
   "cell_type": "code",
   "execution_count": 18,
   "id": "6d67628e-8592-4b27-9589-9710204cde1e",
   "metadata": {},
   "outputs": [
    {
     "data": {
      "text/plain": [
       "\"To calculate the 95% confidence interval for a sample with a mean of 50 and a standard deviation of 5, follow these steps:\\n\\nDetermine the sample size (n): If not given, use a typical value. Here, let's assume \\n𝑛=30\\nn=30.\\n\\nCalculate the Standard Error (SE): \\nSE=Standard\\xa0Deviation\\xa0(SD)\\nSample\\xa0Size\\xa0(n)\\nSE= Sample\\xa0Size\\xa0(n)\\n\\u200b\\n \\nStandard\\xa0Deviation\\xa0(SD)\\n\\u200b\\n  \\nSE=5\\n30\\n≈0.912\\nSE= 30\\n\\u200b\\n \\n5\\n\\u200b\\n ≈0.912\\n\\nFind the critical value for 95% confidence (approximately 1.96 for large samples):\\n\\nConstruct the confidence interval: \\nCI=Mean±(Critical\\xa0Value×SE)\\nCI=Mean±(Critical\\xa0Value×SE) \\nCI=50±(1.96×0.912)\\nCI=50±(1.96×0.912) \\nCI=50±1.79\\nCI=50±1.79\\n\\nInterval: \\nCI=[48.21,51.79]\\nCI=[48.21,51.79]\\n\\nInterpretation: You can be 95% confident that the true population mean falls between 48.21 and 51.79.\""
      ]
     },
     "execution_count": 18,
     "metadata": {},
     "output_type": "execute_result"
    }
   ],
   "source": [
    "'''To calculate the 95% confidence interval for a sample with a mean of 50 and a standard deviation of 5, follow these steps:\n",
    "\n",
    "Determine the sample size (n): If not given, use a typical value. Here, let's assume \n",
    "𝑛=30\n",
    "n=30.\n",
    "\n",
    "Calculate the Standard Error (SE): \n",
    "SE=Standard Deviation (SD)\n",
    "Sample Size (n)\n",
    "SE= Sample Size (n)\n",
    "​\n",
    " \n",
    "Standard Deviation (SD)\n",
    "​\n",
    "  \n",
    "SE=5\n",
    "30\n",
    "≈0.912\n",
    "SE= 30\n",
    "​\n",
    " \n",
    "5\n",
    "​\n",
    " ≈0.912\n",
    "\n",
    "Find the critical value for 95% confidence (approximately 1.96 for large samples):\n",
    "\n",
    "Construct the confidence interval: \n",
    "CI=Mean±(Critical Value×SE)\n",
    "CI=Mean±(Critical Value×SE) \n",
    "CI=50±(1.96×0.912)\n",
    "CI=50±(1.96×0.912) \n",
    "CI=50±1.79\n",
    "CI=50±1.79\n",
    "\n",
    "Interval: \n",
    "CI=[48.21,51.79]\n",
    "CI=[48.21,51.79]\n",
    "\n",
    "Interpretation: You can be 95% confident that the true population mean falls between 48.21 and 51.79.'''"
   ]
  },
  {
   "cell_type": "code",
   "execution_count": 19,
   "id": "721fc3fd-71ff-4c3f-aa1e-b7e1157b26d8",
   "metadata": {},
   "outputs": [
    {
     "data": {
      "text/plain": [
       "'Q8. What is the margin of error in a confidence interval? How does sample size affect the margin of error?\\nProvide an example of a scenario where a larger sample size would result in a smaller margin of error.'"
      ]
     },
     "execution_count": 19,
     "metadata": {},
     "output_type": "execute_result"
    }
   ],
   "source": [
    "'''Q8. What is the margin of error in a confidence interval? How does sample size affect the margin of error?\n",
    "Provide an example of a scenario where a larger sample size would result in a smaller margin of error.'''"
   ]
  },
  {
   "cell_type": "code",
   "execution_count": 20,
   "id": "759361f4-4854-437f-b01f-b1713b8ed0c2",
   "metadata": {},
   "outputs": [
    {
     "data": {
      "text/plain": [
       "'The margin of error in a confidence interval is the range within which the true population parameter is expected to lie, given a specified level of confidence. It is \\ncalculated as:\\n\\nMargin\\xa0of\\xa0Error\\n=Critical\\xa0Value×Standard\\xa0Error\\xa0(SE)\\nMargin\\xa0of\\xa0Error=Critical\\xa0Value×Standard\\xa0Error\\xa0(SE)\\n\\nEffect of Sample Size: A larger sample size reduces the margin of error because the Standard Error (SE) decreases as sample size increases. SE is inversely proportional to the square root of the sample size:\\n\\nSE=Standard\\xa0Deviation\\xa0(SD)/(Sample\\xa0Size\\xa0(n))^1/2\\nSE= Sample\\xa0Size\\xa0(n)\\n\\u200b\\n \\nStandard\\xa0Deviation\\xa0(SD)\\n\\u200b\\n \\n\\nExample: Suppose you are estimating the average height of students in a school. With a small sample of 30 students, \\nthe margin of error might be ±3 cm. If you increase the sample size to 300 students, the margin of error decreases, possibly to ±0.6 cm, \\nproviding a more precise estimate of the average height.'"
      ]
     },
     "execution_count": 20,
     "metadata": {},
     "output_type": "execute_result"
    }
   ],
   "source": [
    "'''The margin of error in a confidence interval is the range within which the true population parameter is expected to lie, given a specified level of confidence. It is \n",
    "calculated as:\n",
    "\n",
    "Margin of Error\n",
    "=Critical Value×Standard Error (SE)\n",
    "Margin of Error=Critical Value×Standard Error (SE)\n",
    "\n",
    "Effect of Sample Size: A larger sample size reduces the margin of error because the Standard Error (SE) decreases as sample size increases. SE is inversely proportional to the square root of the sample size:\n",
    "\n",
    "SE=Standard Deviation (SD)/(Sample Size (n))^1/2\n",
    "SE= Sample Size (n)\n",
    "​\n",
    " \n",
    "Standard Deviation (SD)\n",
    "​\n",
    " \n",
    "\n",
    "Example: Suppose you are estimating the average height of students in a school. With a small sample of 30 students, \n",
    "the margin of error might be ±3 cm. If you increase the sample size to 300 students, the margin of error decreases, possibly to ±0.6 cm, \n",
    "providing a more precise estimate of the average height.'''"
   ]
  },
  {
   "cell_type": "code",
   "execution_count": 21,
   "id": "0b8080d2-aafe-4b10-9f5a-240b33b1ef39",
   "metadata": {},
   "outputs": [
    {
     "data": {
      "text/plain": [
       "'Q9. Calculate the z-score for a data point with a value of 75, a population mean of 70, and a population\\nstandard deviation of 5. Interpret the results'"
      ]
     },
     "execution_count": 21,
     "metadata": {},
     "output_type": "execute_result"
    }
   ],
   "source": [
    "'''Q9. Calculate the z-score for a data point with a value of 75, a population mean of 70, and a population\n",
    "standard deviation of 5. Interpret the results'''"
   ]
  },
  {
   "cell_type": "code",
   "execution_count": 22,
   "id": "eafb3dcf-3357-4c70-b98e-38b906c8bf14",
   "metadata": {},
   "outputs": [
    {
     "data": {
      "text/plain": [
       "'Z-Score= \\nPopulation\\xa0Standard\\xa0Deviation\\nValue−Population\\xa0Mean\\nFor a data point of 75, with a population mean \\nof 70 and a population standard deviation of 5:\\n\\nZ-Score=(75−70)/5\\n=5/5=1\\n\\nInterpretation: A z-score of 1 means that the data point of 75 is 1 standard deviation above the mean. \\nThis indicates that the value is higher than the average by one standard deviation.'"
      ]
     },
     "execution_count": 22,
     "metadata": {},
     "output_type": "execute_result"
    }
   ],
   "source": [
    "'''Z-Score= \n",
    "Population Standard Deviation\n",
    "Value−Population Mean\n",
    "For a data point of 75, with a population mean \n",
    "of 70 and a population standard deviation of 5:\n",
    "\n",
    "Z-Score=(75−70)/5\n",
    "=5/5=1\n",
    "\n",
    "Interpretation: A z-score of 1 means that the data point of 75 is 1 standard deviation above the mean. \n",
    "This indicates that the value is higher than the average by one standard deviation.'''"
   ]
  },
  {
   "cell_type": "code",
   "execution_count": 23,
   "id": "e72975f9-11f7-46fd-9da2-7e5b61d7008d",
   "metadata": {},
   "outputs": [
    {
     "data": {
      "text/plain": [
       "'Q10. In a study of the effectiveness of a new weight loss drug, a sample of 50 participants lost an average\\nof 6 pounds with a standard deviation of 2.5 pounds. Conduct a hypothesis test to determine if the drug is\\nsignificantly effective at a 95% confidence level using a t-test.'"
      ]
     },
     "execution_count": 23,
     "metadata": {},
     "output_type": "execute_result"
    }
   ],
   "source": [
    "'''Q10. In a study of the effectiveness of a new weight loss drug, a sample of 50 participants lost an average\n",
    "of 6 pounds with a standard deviation of 2.5 pounds. Conduct a hypothesis test to determine if the drug is\n",
    "significantly effective at a 95% confidence level using a t-test.'''"
   ]
  },
  {
   "cell_type": "code",
   "execution_count": 25,
   "id": "1fbd8af0-db63-4471-85b4-d7d56b5ef4c2",
   "metadata": {},
   "outputs": [
    {
     "data": {
      "text/plain": [
       "'To conduct a t-test for the effectiveness of the weight loss drug, follow these steps:\\n\\nState Hypotheses:\\n\\nNull Hypothesis (H₀): The drug has no effect, so the mean weight loss is 0 pounds. 𝜇=0\\nAlternative Hypothesis (H₁): The drug is effective, so the mean weight loss is not 0 pounds. \\n𝜇≠0\\n\\nCalculate the Test Statistic: \\n𝑡=(𝑥ˉ−𝜇)/𝑆(𝑛)^1/2\\nt≈17.00\\nDetermine the Critical Value: For a 95% confidence level with \\n𝑛−1=49\\nn−1=49 degrees of freedom, the critical t-value (two-tailed) is approximately ±2.009 (from t-tables).\\nCompare and Conclude:\\n\\nCalculated t-value: 17.00\\nCritical t-value: ±2.009\\nSince 17.00 is much greater than 2.009, we reject the null hypothesis.\\n\\nConclusion: The weight loss drug is significantly effective, as the mean weight loss of 6 pounds is statistically significant at \\nthe 95% confidence level.'"
      ]
     },
     "execution_count": 25,
     "metadata": {},
     "output_type": "execute_result"
    }
   ],
   "source": [
    "'''To conduct a t-test for the effectiveness of the weight loss drug, follow these steps:\n",
    "\n",
    "State Hypotheses:\n",
    "\n",
    "Null Hypothesis (H₀): The drug has no effect, so the mean weight loss is 0 pounds. 𝜇=0\n",
    "Alternative Hypothesis (H₁): The drug is effective, so the mean weight loss is not 0 pounds. \n",
    "𝜇≠0\n",
    "\n",
    "Calculate the Test Statistic: \n",
    "𝑡=(𝑥ˉ−𝜇)/𝑆(𝑛)^1/2\n",
    "t≈17.00\n",
    "Determine the Critical Value: For a 95% confidence level with \n",
    "𝑛−1=49\n",
    "n−1=49 degrees of freedom, the critical t-value (two-tailed) is approximately ±2.009 (from t-tables).\n",
    "Compare and Conclude:\n",
    "\n",
    "Calculated t-value: 17.00\n",
    "Critical t-value: ±2.009\n",
    "Since 17.00 is much greater than 2.009, we reject the null hypothesis.\n",
    "\n",
    "Conclusion: The weight loss drug is significantly effective, as the mean weight loss of 6 pounds is statistically significant at \n",
    "the 95% confidence level.'''"
   ]
  },
  {
   "cell_type": "code",
   "execution_count": 26,
   "id": "bc22e68a-2a2c-4efe-af4f-de1d75d73cac",
   "metadata": {},
   "outputs": [
    {
     "data": {
      "text/plain": [
       "'Q11. In a survey of 500 people, 65% reported being satisfied with their current job. Calculate the 95%\\nconfidence interval for the true proportion of people who are satisfied with their job'"
      ]
     },
     "execution_count": 26,
     "metadata": {},
     "output_type": "execute_result"
    }
   ],
   "source": [
    "'''Q11. In a survey of 500 people, 65% reported being satisfied with their current job. Calculate the 95%\n",
    "confidence interval for the true proportion of people who are satisfied with their job'''"
   ]
  },
  {
   "cell_type": "code",
   "execution_count": 27,
   "id": "3be3e7d6-e8e0-461f-a3dc-77acadfa3522",
   "metadata": {},
   "outputs": [
    {
     "data": {
      "text/plain": [
       "' using the above  mentioned formuala\\nInterpretation: we can be 95% confident that the true proportion of people satisfied with their job is between 60.8% and 69.2%.'"
      ]
     },
     "execution_count": 27,
     "metadata": {},
     "output_type": "execute_result"
    }
   ],
   "source": [
    "''' using the above  mentioned formuala\n",
    "Interpretation: we can be 95% confident that the true proportion of people satisfied with their job is between 60.8% and 69.2%.'''"
   ]
  },
  {
   "cell_type": "code",
   "execution_count": 28,
   "id": "b27ca464-f8ad-4dc8-a27e-3ace00a1f00b",
   "metadata": {},
   "outputs": [
    {
     "data": {
      "text/plain": [
       "'Q12. A researcher is testing the effectiveness of two different teaching methods on student performance.\\nSample A has a mean score of 85 with a standard deviation of 6, while sample B has a mean score of 82\\nwith a standard deviation of 5. Conduct a hypothesis test to determine if the two teaching methods have a\\nsignificant difference in student performance using a t-test with a significance level of 0.01.'"
      ]
     },
     "execution_count": 28,
     "metadata": {},
     "output_type": "execute_result"
    }
   ],
   "source": [
    "'''Q12. A researcher is testing the effectiveness of two different teaching methods on student performance.\n",
    "Sample A has a mean score of 85 with a standard deviation of 6, while sample B has a mean score of 82\n",
    "with a standard deviation of 5. Conduct a hypothesis test to determine if the two teaching methods have a\n",
    "significant difference in student performance using a t-test with a significance level of 0.01.'''"
   ]
  },
  {
   "cell_type": "code",
   "execution_count": 29,
   "id": "73a0a364-7fa7-436c-92b8-22ffe2f29427",
   "metadata": {},
   "outputs": [
    {
     "data": {
      "text/plain": [
       "'Conclusion: At a significance level of 0.01, there is not enough evidence to conclude that there is a significant difference\\nin student performance between the two teaching methods.'"
      ]
     },
     "execution_count": 29,
     "metadata": {},
     "output_type": "execute_result"
    }
   ],
   "source": [
    "'''Conclusion: At a significance level of 0.01, there is not enough evidence to conclude that there is a significant difference\n",
    "in student performance between the two teaching methods.'''"
   ]
  },
  {
   "cell_type": "code",
   "execution_count": null,
   "id": "27d4a050-8d07-4cca-b1b6-e04ec29228d1",
   "metadata": {},
   "outputs": [],
   "source": []
  }
 ],
 "metadata": {
  "kernelspec": {
   "display_name": "Python 3 (ipykernel)",
   "language": "python",
   "name": "python3"
  },
  "language_info": {
   "codemirror_mode": {
    "name": "ipython",
    "version": 3
   },
   "file_extension": ".py",
   "mimetype": "text/x-python",
   "name": "python",
   "nbconvert_exporter": "python",
   "pygments_lexer": "ipython3",
   "version": "3.10.8"
  }
 },
 "nbformat": 4,
 "nbformat_minor": 5
}
